{
 "cells": [
  {
   "cell_type": "code",
   "execution_count": 2,
   "metadata": {},
   "outputs": [],
   "source": [
    "import pandas as pd\n",
    "import numpy as np"
   ]
  },
  {
   "cell_type": "markdown",
   "metadata": {},
   "source": [
    "# Part 1 - Parse Neighborhoods"
   ]
  },
  {
   "cell_type": "code",
   "execution_count": 3,
   "metadata": {},
   "outputs": [],
   "source": [
    "wikipage = pd.read_html(\"https://en.wikipedia.org/wiki/List_of_postal_codes_of_Canada:_M\")"
   ]
  },
  {
   "cell_type": "code",
   "execution_count": 4,
   "metadata": {},
   "outputs": [
    {
     "data": {
      "text/html": [
       "<div>\n",
       "<style scoped>\n",
       "    .dataframe tbody tr th:only-of-type {\n",
       "        vertical-align: middle;\n",
       "    }\n",
       "\n",
       "    .dataframe tbody tr th {\n",
       "        vertical-align: top;\n",
       "    }\n",
       "\n",
       "    .dataframe thead th {\n",
       "        text-align: right;\n",
       "    }\n",
       "</style>\n",
       "<table border=\"1\" class=\"dataframe\">\n",
       "  <thead>\n",
       "    <tr style=\"text-align: right;\">\n",
       "      <th></th>\n",
       "      <th>Postal Code</th>\n",
       "      <th>Borough</th>\n",
       "      <th>Neighborhood</th>\n",
       "    </tr>\n",
       "  </thead>\n",
       "  <tbody>\n",
       "    <tr>\n",
       "      <th>0</th>\n",
       "      <td>M1A</td>\n",
       "      <td>Not assigned</td>\n",
       "      <td>Not assigned</td>\n",
       "    </tr>\n",
       "    <tr>\n",
       "      <th>1</th>\n",
       "      <td>M2A</td>\n",
       "      <td>Not assigned</td>\n",
       "      <td>Not assigned</td>\n",
       "    </tr>\n",
       "    <tr>\n",
       "      <th>2</th>\n",
       "      <td>M3A</td>\n",
       "      <td>North York</td>\n",
       "      <td>Parkwoods</td>\n",
       "    </tr>\n",
       "    <tr>\n",
       "      <th>3</th>\n",
       "      <td>M4A</td>\n",
       "      <td>North York</td>\n",
       "      <td>Victoria Village</td>\n",
       "    </tr>\n",
       "    <tr>\n",
       "      <th>4</th>\n",
       "      <td>M5A</td>\n",
       "      <td>Downtown Toronto</td>\n",
       "      <td>Regent Park, Harbourfront</td>\n",
       "    </tr>\n",
       "    <tr>\n",
       "      <th>...</th>\n",
       "      <td>...</td>\n",
       "      <td>...</td>\n",
       "      <td>...</td>\n",
       "    </tr>\n",
       "    <tr>\n",
       "      <th>175</th>\n",
       "      <td>M5Z</td>\n",
       "      <td>Not assigned</td>\n",
       "      <td>Not assigned</td>\n",
       "    </tr>\n",
       "    <tr>\n",
       "      <th>176</th>\n",
       "      <td>M6Z</td>\n",
       "      <td>Not assigned</td>\n",
       "      <td>Not assigned</td>\n",
       "    </tr>\n",
       "    <tr>\n",
       "      <th>177</th>\n",
       "      <td>M7Z</td>\n",
       "      <td>Not assigned</td>\n",
       "      <td>Not assigned</td>\n",
       "    </tr>\n",
       "    <tr>\n",
       "      <th>178</th>\n",
       "      <td>M8Z</td>\n",
       "      <td>Etobicoke</td>\n",
       "      <td>Mimico NW, The Queensway West, South of Bloor,...</td>\n",
       "    </tr>\n",
       "    <tr>\n",
       "      <th>179</th>\n",
       "      <td>M9Z</td>\n",
       "      <td>Not assigned</td>\n",
       "      <td>Not assigned</td>\n",
       "    </tr>\n",
       "  </tbody>\n",
       "</table>\n",
       "<p>180 rows × 3 columns</p>\n",
       "</div>"
      ],
      "text/plain": [
       "    Postal Code           Borough  \\\n",
       "0           M1A      Not assigned   \n",
       "1           M2A      Not assigned   \n",
       "2           M3A        North York   \n",
       "3           M4A        North York   \n",
       "4           M5A  Downtown Toronto   \n",
       "..          ...               ...   \n",
       "175         M5Z      Not assigned   \n",
       "176         M6Z      Not assigned   \n",
       "177         M7Z      Not assigned   \n",
       "178         M8Z         Etobicoke   \n",
       "179         M9Z      Not assigned   \n",
       "\n",
       "                                          Neighborhood  \n",
       "0                                         Not assigned  \n",
       "1                                         Not assigned  \n",
       "2                                            Parkwoods  \n",
       "3                                     Victoria Village  \n",
       "4                            Regent Park, Harbourfront  \n",
       "..                                                 ...  \n",
       "175                                       Not assigned  \n",
       "176                                       Not assigned  \n",
       "177                                       Not assigned  \n",
       "178  Mimico NW, The Queensway West, South of Bloor,...  \n",
       "179                                       Not assigned  \n",
       "\n",
       "[180 rows x 3 columns]"
      ]
     },
     "execution_count": 4,
     "metadata": {},
     "output_type": "execute_result"
    }
   ],
   "source": [
    "wikicodes = wikipage[0]\n",
    "wikicodes"
   ]
  },
  {
   "cell_type": "markdown",
   "metadata": {},
   "source": [
    "Remove rows where Borough == 'Not assigned'"
   ]
  },
  {
   "cell_type": "code",
   "execution_count": 5,
   "metadata": {},
   "outputs": [],
   "source": [
    "wikicodes = wikicodes[wikicodes.Borough != 'Not assigned']"
   ]
  },
  {
   "cell_type": "code",
   "execution_count": 6,
   "metadata": {},
   "outputs": [
    {
     "data": {
      "text/html": [
       "<div>\n",
       "<style scoped>\n",
       "    .dataframe tbody tr th:only-of-type {\n",
       "        vertical-align: middle;\n",
       "    }\n",
       "\n",
       "    .dataframe tbody tr th {\n",
       "        vertical-align: top;\n",
       "    }\n",
       "\n",
       "    .dataframe thead th {\n",
       "        text-align: right;\n",
       "    }\n",
       "</style>\n",
       "<table border=\"1\" class=\"dataframe\">\n",
       "  <thead>\n",
       "    <tr style=\"text-align: right;\">\n",
       "      <th></th>\n",
       "      <th>Postal Code</th>\n",
       "      <th>Borough</th>\n",
       "      <th>Neighborhood</th>\n",
       "    </tr>\n",
       "  </thead>\n",
       "  <tbody>\n",
       "    <tr>\n",
       "      <th>count</th>\n",
       "      <td>103</td>\n",
       "      <td>103</td>\n",
       "      <td>103</td>\n",
       "    </tr>\n",
       "    <tr>\n",
       "      <th>unique</th>\n",
       "      <td>103</td>\n",
       "      <td>10</td>\n",
       "      <td>99</td>\n",
       "    </tr>\n",
       "    <tr>\n",
       "      <th>top</th>\n",
       "      <td>M5M</td>\n",
       "      <td>North York</td>\n",
       "      <td>Downsview</td>\n",
       "    </tr>\n",
       "    <tr>\n",
       "      <th>freq</th>\n",
       "      <td>1</td>\n",
       "      <td>24</td>\n",
       "      <td>4</td>\n",
       "    </tr>\n",
       "  </tbody>\n",
       "</table>\n",
       "</div>"
      ],
      "text/plain": [
       "       Postal Code     Borough Neighborhood\n",
       "count          103         103          103\n",
       "unique         103          10           99\n",
       "top            M5M  North York    Downsview\n",
       "freq             1          24            4"
      ]
     },
     "execution_count": 6,
     "metadata": {},
     "output_type": "execute_result"
    }
   ],
   "source": [
    "wikicodes.describe()"
   ]
  },
  {
   "cell_type": "markdown",
   "metadata": {},
   "source": [
    "Group by Postal Code and combine Neighborhood strings (although describe() above shows all Postal Codes are unique)"
   ]
  },
  {
   "cell_type": "code",
   "execution_count": 7,
   "metadata": {},
   "outputs": [],
   "source": [
    "aggregration_functions = {'Borough': 'first', 'Neighborhood': lambda x: \"\".join(x)}\n",
    "wikidf = wikicodes.groupby(wikicodes['Postal Code']).agg(aggregration_functions)"
   ]
  },
  {
   "cell_type": "markdown",
   "metadata": {},
   "source": [
    "Verify grouped neighbouhoods were combined as shown in assignment"
   ]
  },
  {
   "cell_type": "code",
   "execution_count": 8,
   "metadata": {},
   "outputs": [
    {
     "data": {
      "text/html": [
       "<div>\n",
       "<style scoped>\n",
       "    .dataframe tbody tr th:only-of-type {\n",
       "        vertical-align: middle;\n",
       "    }\n",
       "\n",
       "    .dataframe tbody tr th {\n",
       "        vertical-align: top;\n",
       "    }\n",
       "\n",
       "    .dataframe thead th {\n",
       "        text-align: right;\n",
       "    }\n",
       "</style>\n",
       "<table border=\"1\" class=\"dataframe\">\n",
       "  <thead>\n",
       "    <tr style=\"text-align: right;\">\n",
       "      <th></th>\n",
       "      <th>Borough</th>\n",
       "      <th>Neighborhood</th>\n",
       "    </tr>\n",
       "    <tr>\n",
       "      <th>Postal Code</th>\n",
       "      <th></th>\n",
       "      <th></th>\n",
       "    </tr>\n",
       "  </thead>\n",
       "  <tbody>\n",
       "    <tr>\n",
       "      <th>M5A</th>\n",
       "      <td>Downtown Toronto</td>\n",
       "      <td>Regent Park, Harbourfront</td>\n",
       "    </tr>\n",
       "  </tbody>\n",
       "</table>\n",
       "</div>"
      ],
      "text/plain": [
       "                      Borough               Neighborhood\n",
       "Postal Code                                             \n",
       "M5A          Downtown Toronto  Regent Park, Harbourfront"
      ]
     },
     "execution_count": 8,
     "metadata": {},
     "output_type": "execute_result"
    }
   ],
   "source": [
    "wikidf.loc[['M5A']]"
   ]
  },
  {
   "cell_type": "raw",
   "metadata": {},
   "source": [
    "Check for any 'Not assigned' Neighborhoods"
   ]
  },
  {
   "cell_type": "code",
   "execution_count": 9,
   "metadata": {},
   "outputs": [],
   "source": [
    "wikidf['Neighborhood'] = wikidf.where(wikidf['Neighborhood'] != 'Not assigned', np.nan).bfill(axis=1).Neighborhood"
   ]
  },
  {
   "cell_type": "code",
   "execution_count": 10,
   "metadata": {},
   "outputs": [
    {
     "data": {
      "text/html": [
       "<div>\n",
       "<style scoped>\n",
       "    .dataframe tbody tr th:only-of-type {\n",
       "        vertical-align: middle;\n",
       "    }\n",
       "\n",
       "    .dataframe tbody tr th {\n",
       "        vertical-align: top;\n",
       "    }\n",
       "\n",
       "    .dataframe thead th {\n",
       "        text-align: right;\n",
       "    }\n",
       "</style>\n",
       "<table border=\"1\" class=\"dataframe\">\n",
       "  <thead>\n",
       "    <tr style=\"text-align: right;\">\n",
       "      <th></th>\n",
       "      <th>Borough</th>\n",
       "      <th>Neighborhood</th>\n",
       "    </tr>\n",
       "    <tr>\n",
       "      <th>Postal Code</th>\n",
       "      <th></th>\n",
       "      <th></th>\n",
       "    </tr>\n",
       "  </thead>\n",
       "  <tbody>\n",
       "    <tr>\n",
       "      <th>M1B</th>\n",
       "      <td>Scarborough</td>\n",
       "      <td>Malvern, Rouge</td>\n",
       "    </tr>\n",
       "    <tr>\n",
       "      <th>M1C</th>\n",
       "      <td>Scarborough</td>\n",
       "      <td>Rouge Hill, Port Union, Highland Creek</td>\n",
       "    </tr>\n",
       "    <tr>\n",
       "      <th>M1E</th>\n",
       "      <td>Scarborough</td>\n",
       "      <td>Guildwood, Morningside, West Hill</td>\n",
       "    </tr>\n",
       "    <tr>\n",
       "      <th>M1G</th>\n",
       "      <td>Scarborough</td>\n",
       "      <td>Woburn</td>\n",
       "    </tr>\n",
       "    <tr>\n",
       "      <th>M1H</th>\n",
       "      <td>Scarborough</td>\n",
       "      <td>Cedarbrae</td>\n",
       "    </tr>\n",
       "  </tbody>\n",
       "</table>\n",
       "</div>"
      ],
      "text/plain": [
       "                 Borough                            Neighborhood\n",
       "Postal Code                                                     \n",
       "M1B          Scarborough                          Malvern, Rouge\n",
       "M1C          Scarborough  Rouge Hill, Port Union, Highland Creek\n",
       "M1E          Scarborough       Guildwood, Morningside, West Hill\n",
       "M1G          Scarborough                                  Woburn\n",
       "M1H          Scarborough                               Cedarbrae"
      ]
     },
     "execution_count": 10,
     "metadata": {},
     "output_type": "execute_result"
    }
   ],
   "source": [
    "wikidf.head()"
   ]
  },
  {
   "cell_type": "code",
   "execution_count": 11,
   "metadata": {},
   "outputs": [
    {
     "data": {
      "text/plain": [
       "(103, 2)"
      ]
     },
     "execution_count": 11,
     "metadata": {},
     "output_type": "execute_result"
    }
   ],
   "source": [
    "wikidf.shape"
   ]
  },
  {
   "cell_type": "markdown",
   "metadata": {},
   "source": [
    "# Part 2 - Latitude/Longitude"
   ]
  },
  {
   "cell_type": "code",
   "execution_count": 12,
   "metadata": {},
   "outputs": [
    {
     "name": "stdout",
     "output_type": "stream",
     "text": [
      "--2020-06-08 09:11:25--  https://cocl.us/Geospatial_data\n",
      "Resolving cocl.us (cocl.us)... 169.48.113.194, 158.85.108.86, 158.85.108.83\n",
      "Connecting to cocl.us (cocl.us)|169.48.113.194|:443... connected.\n",
      "HTTP request sent, awaiting response... 301 Moved Permanently\n",
      "Location: https://ibm.box.com/shared/static/9afzr83pps4pwf2smjjcf1y5mvgb18rr.csv [following]\n",
      "--2020-06-08 09:11:27--  https://ibm.box.com/shared/static/9afzr83pps4pwf2smjjcf1y5mvgb18rr.csv\n",
      "Resolving ibm.box.com (ibm.box.com)... 107.152.24.197\n",
      "Connecting to ibm.box.com (ibm.box.com)|107.152.24.197|:443... connected.\n",
      "HTTP request sent, awaiting response... 301 Moved Permanently\n",
      "Location: /public/static/9afzr83pps4pwf2smjjcf1y5mvgb18rr.csv [following]\n",
      "--2020-06-08 09:11:27--  https://ibm.box.com/public/static/9afzr83pps4pwf2smjjcf1y5mvgb18rr.csv\n",
      "Reusing existing connection to ibm.box.com:443.\n",
      "HTTP request sent, awaiting response... 301 Moved Permanently\n",
      "Location: https://ibm.ent.box.com/public/static/9afzr83pps4pwf2smjjcf1y5mvgb18rr.csv [following]\n",
      "--2020-06-08 09:11:28--  https://ibm.ent.box.com/public/static/9afzr83pps4pwf2smjjcf1y5mvgb18rr.csv\n",
      "Resolving ibm.ent.box.com (ibm.ent.box.com)... 107.152.24.201\n",
      "Connecting to ibm.ent.box.com (ibm.ent.box.com)|107.152.24.201|:443... connected.\n",
      "HTTP request sent, awaiting response... 302 Found\n",
      "Location: https://public.boxcloud.com/d/1/b1!XR28v6K1A9G2_d4xGZ7aPWFxGVjMia5dN-tJGWPx0o4IFnH8tPWE_FbRB9l6ohImLMt7GRz5Nsasexttm3vihsqSSDxwCKuBHTbFTifaaQ8sR5s6a0FQYXPU9KsHTVN1kg-eUvEtAUjWQMBCan7DY3PKAE3B3n_YLJ6DUiqc5O_PStIPP1xb7oV0qRoJKlNARRExJGSQQ05cxEG77vOtEpkcl5uFmHmKJDxpUNpk7IC2OtONbW_VanbEpdUfP4JkauOnvcGZSqTnjdkaJ7fbotODVRMz1jIhnoS__qbM40Vn0q39vEld9QoorXUGj_KYSyS3zsrRmQHjQ0-e3DBhjwxjvJJxtYDlSnrBd9cnKgk7OA74aYsCjgBdZH1T-aFg4iKEQoFtJoMPE8Y8Y3lHdCWnxD-DS7c7IA4GZMEW5JntVAQi3Mqi7GvyiwWXOJCLlVpt1CDE3z-hbYAO3GusyV67xp7obwON-_I3vV5ZLRFGujOZjhRUDb20cbWcEduICUc4n9xYH_4V--EG4beJcNs0-47DVE_4R9KA1nhAKS9XnM-jmhDTvWxiIQX1W0bkb44v9oyauBiNyGXY8F7hjGliu6KXCL-Ucec5rIMcDzXf7eyDbAvYgY55KlqnYcENga1D1bqMD34pAoPIvGb7_oXShLbIm1guefC-Q5i9u8Y_ryWU8rqdDdg-FHEg1OpfGM2qDDO0OgB2esR6O0_qm47aJrYpoz8W4-b4dqbTeQ25BAlU7l6ZJChKaRz4JvIMzeRunuTGGwWwWtG5lKLaojshafMCEN9dZFceJvVVVi-ILXtyjGJlT7S9e81zwdb_kVbVwRkb4vqjaOdqJPLK_mio-v2vcm5WnX1wg2fX1u1vJ3jN_YReNRw_iQGdZuN_-S2aPA2oLtzfXR9EhGiLRPmisYweKdqiTRsh7iGcJxcrQTW28AGcxnxBHBECG74xRiMmQnh15MqIXhuRywmEy3VpEUQHO_X_HZ7JzROhp5LJeRebu_m_voAZxS7UPf-HNZm6tbLMww9h96ry-MM6I2OP5nu-g8vFMr8tzJGOOgtUuFuJzSOtkiNzIQfXM86nmNcF35KS7ozjotqV1cuM8LYO_Y-3Qn9zFz-Y2tDPT67pTkfCvKJLdxCbedDUHYwdzOcCgiX8zlk7IHZfSrz6KNY3oigbsik9818oFzgSfYyLQZKtGTiv_2MuBJTzCvAX9axDEPQ4ZDiGNk5_vNvy7Vkn4yz7XiM6xPgrBwCigGmu4U28E70iFOf_gtbhVOB9r7IQU3JV6rSrQ2A3g6n_7_BMk1_DzK87R8lYRDHlO_QzLikcEXMZrpgd35Siqf7Uq3OkCObmkeuBXAPJljQwNj6P8fDaMk6alrfLHkt08qWOcOEtGGZSv_4gpn6dlTIUVzLnUYVLuASKspV-k8S7nZtZd5HxF_6qh4CXZEo71r8./download [following]\n",
      "--2020-06-08 09:11:28--  https://public.boxcloud.com/d/1/b1!XR28v6K1A9G2_d4xGZ7aPWFxGVjMia5dN-tJGWPx0o4IFnH8tPWE_FbRB9l6ohImLMt7GRz5Nsasexttm3vihsqSSDxwCKuBHTbFTifaaQ8sR5s6a0FQYXPU9KsHTVN1kg-eUvEtAUjWQMBCan7DY3PKAE3B3n_YLJ6DUiqc5O_PStIPP1xb7oV0qRoJKlNARRExJGSQQ05cxEG77vOtEpkcl5uFmHmKJDxpUNpk7IC2OtONbW_VanbEpdUfP4JkauOnvcGZSqTnjdkaJ7fbotODVRMz1jIhnoS__qbM40Vn0q39vEld9QoorXUGj_KYSyS3zsrRmQHjQ0-e3DBhjwxjvJJxtYDlSnrBd9cnKgk7OA74aYsCjgBdZH1T-aFg4iKEQoFtJoMPE8Y8Y3lHdCWnxD-DS7c7IA4GZMEW5JntVAQi3Mqi7GvyiwWXOJCLlVpt1CDE3z-hbYAO3GusyV67xp7obwON-_I3vV5ZLRFGujOZjhRUDb20cbWcEduICUc4n9xYH_4V--EG4beJcNs0-47DVE_4R9KA1nhAKS9XnM-jmhDTvWxiIQX1W0bkb44v9oyauBiNyGXY8F7hjGliu6KXCL-Ucec5rIMcDzXf7eyDbAvYgY55KlqnYcENga1D1bqMD34pAoPIvGb7_oXShLbIm1guefC-Q5i9u8Y_ryWU8rqdDdg-FHEg1OpfGM2qDDO0OgB2esR6O0_qm47aJrYpoz8W4-b4dqbTeQ25BAlU7l6ZJChKaRz4JvIMzeRunuTGGwWwWtG5lKLaojshafMCEN9dZFceJvVVVi-ILXtyjGJlT7S9e81zwdb_kVbVwRkb4vqjaOdqJPLK_mio-v2vcm5WnX1wg2fX1u1vJ3jN_YReNRw_iQGdZuN_-S2aPA2oLtzfXR9EhGiLRPmisYweKdqiTRsh7iGcJxcrQTW28AGcxnxBHBECG74xRiMmQnh15MqIXhuRywmEy3VpEUQHO_X_HZ7JzROhp5LJeRebu_m_voAZxS7UPf-HNZm6tbLMww9h96ry-MM6I2OP5nu-g8vFMr8tzJGOOgtUuFuJzSOtkiNzIQfXM86nmNcF35KS7ozjotqV1cuM8LYO_Y-3Qn9zFz-Y2tDPT67pTkfCvKJLdxCbedDUHYwdzOcCgiX8zlk7IHZfSrz6KNY3oigbsik9818oFzgSfYyLQZKtGTiv_2MuBJTzCvAX9axDEPQ4ZDiGNk5_vNvy7Vkn4yz7XiM6xPgrBwCigGmu4U28E70iFOf_gtbhVOB9r7IQU3JV6rSrQ2A3g6n_7_BMk1_DzK87R8lYRDHlO_QzLikcEXMZrpgd35Siqf7Uq3OkCObmkeuBXAPJljQwNj6P8fDaMk6alrfLHkt08qWOcOEtGGZSv_4gpn6dlTIUVzLnUYVLuASKspV-k8S7nZtZd5HxF_6qh4CXZEo71r8./download\n",
      "Resolving public.boxcloud.com (public.boxcloud.com)... 107.152.24.200\n",
      "Connecting to public.boxcloud.com (public.boxcloud.com)|107.152.24.200|:443... connected.\n",
      "HTTP request sent, awaiting response... 200 OK\n",
      "Length: 2891 (2.8K) [text/csv]\n",
      "Saving to: ‘latlong.csv’\n",
      "\n",
      "latlong.csv         100%[===================>]   2.82K  --.-KB/s    in 0s      \n",
      "\n",
      "2020-06-08 09:11:28 (276 MB/s) - ‘latlong.csv’ saved [2891/2891]\n",
      "\n"
     ]
    }
   ],
   "source": [
    "!wget -O latlong.csv https://cocl.us/Geospatial_data"
   ]
  },
  {
   "cell_type": "code",
   "execution_count": 13,
   "metadata": {},
   "outputs": [
    {
     "data": {
      "text/html": [
       "<div>\n",
       "<style scoped>\n",
       "    .dataframe tbody tr th:only-of-type {\n",
       "        vertical-align: middle;\n",
       "    }\n",
       "\n",
       "    .dataframe tbody tr th {\n",
       "        vertical-align: top;\n",
       "    }\n",
       "\n",
       "    .dataframe thead th {\n",
       "        text-align: right;\n",
       "    }\n",
       "</style>\n",
       "<table border=\"1\" class=\"dataframe\">\n",
       "  <thead>\n",
       "    <tr style=\"text-align: right;\">\n",
       "      <th></th>\n",
       "      <th>Postal Code</th>\n",
       "      <th>Latitude</th>\n",
       "      <th>Longitude</th>\n",
       "    </tr>\n",
       "  </thead>\n",
       "  <tbody>\n",
       "    <tr>\n",
       "      <th>0</th>\n",
       "      <td>M1B</td>\n",
       "      <td>43.806686</td>\n",
       "      <td>-79.194353</td>\n",
       "    </tr>\n",
       "    <tr>\n",
       "      <th>1</th>\n",
       "      <td>M1C</td>\n",
       "      <td>43.784535</td>\n",
       "      <td>-79.160497</td>\n",
       "    </tr>\n",
       "    <tr>\n",
       "      <th>2</th>\n",
       "      <td>M1E</td>\n",
       "      <td>43.763573</td>\n",
       "      <td>-79.188711</td>\n",
       "    </tr>\n",
       "    <tr>\n",
       "      <th>3</th>\n",
       "      <td>M1G</td>\n",
       "      <td>43.770992</td>\n",
       "      <td>-79.216917</td>\n",
       "    </tr>\n",
       "    <tr>\n",
       "      <th>4</th>\n",
       "      <td>M1H</td>\n",
       "      <td>43.773136</td>\n",
       "      <td>-79.239476</td>\n",
       "    </tr>\n",
       "  </tbody>\n",
       "</table>\n",
       "</div>"
      ],
      "text/plain": [
       "  Postal Code   Latitude  Longitude\n",
       "0         M1B  43.806686 -79.194353\n",
       "1         M1C  43.784535 -79.160497\n",
       "2         M1E  43.763573 -79.188711\n",
       "3         M1G  43.770992 -79.216917\n",
       "4         M1H  43.773136 -79.239476"
      ]
     },
     "execution_count": 13,
     "metadata": {},
     "output_type": "execute_result"
    }
   ],
   "source": [
    "latdf = pd.read_csv('latlong.csv')\n",
    "latdf.head()"
   ]
  },
  {
   "cell_type": "code",
   "execution_count": 14,
   "metadata": {},
   "outputs": [
    {
     "data": {
      "text/html": [
       "<div>\n",
       "<style scoped>\n",
       "    .dataframe tbody tr th:only-of-type {\n",
       "        vertical-align: middle;\n",
       "    }\n",
       "\n",
       "    .dataframe tbody tr th {\n",
       "        vertical-align: top;\n",
       "    }\n",
       "\n",
       "    .dataframe thead th {\n",
       "        text-align: right;\n",
       "    }\n",
       "</style>\n",
       "<table border=\"1\" class=\"dataframe\">\n",
       "  <thead>\n",
       "    <tr style=\"text-align: right;\">\n",
       "      <th></th>\n",
       "      <th>Latitude</th>\n",
       "      <th>Longitude</th>\n",
       "    </tr>\n",
       "    <tr>\n",
       "      <th>Postal Code</th>\n",
       "      <th></th>\n",
       "      <th></th>\n",
       "    </tr>\n",
       "  </thead>\n",
       "  <tbody>\n",
       "    <tr>\n",
       "      <th>M1B</th>\n",
       "      <td>43.806686</td>\n",
       "      <td>-79.194353</td>\n",
       "    </tr>\n",
       "    <tr>\n",
       "      <th>M1C</th>\n",
       "      <td>43.784535</td>\n",
       "      <td>-79.160497</td>\n",
       "    </tr>\n",
       "    <tr>\n",
       "      <th>M1E</th>\n",
       "      <td>43.763573</td>\n",
       "      <td>-79.188711</td>\n",
       "    </tr>\n",
       "    <tr>\n",
       "      <th>M1G</th>\n",
       "      <td>43.770992</td>\n",
       "      <td>-79.216917</td>\n",
       "    </tr>\n",
       "    <tr>\n",
       "      <th>M1H</th>\n",
       "      <td>43.773136</td>\n",
       "      <td>-79.239476</td>\n",
       "    </tr>\n",
       "  </tbody>\n",
       "</table>\n",
       "</div>"
      ],
      "text/plain": [
       "              Latitude  Longitude\n",
       "Postal Code                      \n",
       "M1B          43.806686 -79.194353\n",
       "M1C          43.784535 -79.160497\n",
       "M1E          43.763573 -79.188711\n",
       "M1G          43.770992 -79.216917\n",
       "M1H          43.773136 -79.239476"
      ]
     },
     "execution_count": 14,
     "metadata": {},
     "output_type": "execute_result"
    }
   ],
   "source": [
    "latdf = latdf.set_index('Postal Code')\n",
    "latdf.head()"
   ]
  },
  {
   "cell_type": "code",
   "execution_count": 15,
   "metadata": {},
   "outputs": [],
   "source": [
    "df = pd.concat([wikidf, latdf], axis=1, join=\"inner\")"
   ]
  },
  {
   "cell_type": "code",
   "execution_count": 16,
   "metadata": {},
   "outputs": [
    {
     "data": {
      "text/html": [
       "<div>\n",
       "<style scoped>\n",
       "    .dataframe tbody tr th:only-of-type {\n",
       "        vertical-align: middle;\n",
       "    }\n",
       "\n",
       "    .dataframe tbody tr th {\n",
       "        vertical-align: top;\n",
       "    }\n",
       "\n",
       "    .dataframe thead th {\n",
       "        text-align: right;\n",
       "    }\n",
       "</style>\n",
       "<table border=\"1\" class=\"dataframe\">\n",
       "  <thead>\n",
       "    <tr style=\"text-align: right;\">\n",
       "      <th></th>\n",
       "      <th>Borough</th>\n",
       "      <th>Neighborhood</th>\n",
       "      <th>Latitude</th>\n",
       "      <th>Longitude</th>\n",
       "    </tr>\n",
       "    <tr>\n",
       "      <th>Postal Code</th>\n",
       "      <th></th>\n",
       "      <th></th>\n",
       "      <th></th>\n",
       "      <th></th>\n",
       "    </tr>\n",
       "  </thead>\n",
       "  <tbody>\n",
       "    <tr>\n",
       "      <th>M1B</th>\n",
       "      <td>Scarborough</td>\n",
       "      <td>Malvern, Rouge</td>\n",
       "      <td>43.806686</td>\n",
       "      <td>-79.194353</td>\n",
       "    </tr>\n",
       "    <tr>\n",
       "      <th>M1C</th>\n",
       "      <td>Scarborough</td>\n",
       "      <td>Rouge Hill, Port Union, Highland Creek</td>\n",
       "      <td>43.784535</td>\n",
       "      <td>-79.160497</td>\n",
       "    </tr>\n",
       "    <tr>\n",
       "      <th>M1E</th>\n",
       "      <td>Scarborough</td>\n",
       "      <td>Guildwood, Morningside, West Hill</td>\n",
       "      <td>43.763573</td>\n",
       "      <td>-79.188711</td>\n",
       "    </tr>\n",
       "    <tr>\n",
       "      <th>M1G</th>\n",
       "      <td>Scarborough</td>\n",
       "      <td>Woburn</td>\n",
       "      <td>43.770992</td>\n",
       "      <td>-79.216917</td>\n",
       "    </tr>\n",
       "    <tr>\n",
       "      <th>M1H</th>\n",
       "      <td>Scarborough</td>\n",
       "      <td>Cedarbrae</td>\n",
       "      <td>43.773136</td>\n",
       "      <td>-79.239476</td>\n",
       "    </tr>\n",
       "  </tbody>\n",
       "</table>\n",
       "</div>"
      ],
      "text/plain": [
       "                 Borough                            Neighborhood   Latitude  \\\n",
       "Postal Code                                                                   \n",
       "M1B          Scarborough                          Malvern, Rouge  43.806686   \n",
       "M1C          Scarborough  Rouge Hill, Port Union, Highland Creek  43.784535   \n",
       "M1E          Scarborough       Guildwood, Morningside, West Hill  43.763573   \n",
       "M1G          Scarborough                                  Woburn  43.770992   \n",
       "M1H          Scarborough                               Cedarbrae  43.773136   \n",
       "\n",
       "             Longitude  \n",
       "Postal Code             \n",
       "M1B         -79.194353  \n",
       "M1C         -79.160497  \n",
       "M1E         -79.188711  \n",
       "M1G         -79.216917  \n",
       "M1H         -79.239476  "
      ]
     },
     "execution_count": 16,
     "metadata": {},
     "output_type": "execute_result"
    }
   ],
   "source": [
    "df.head()"
   ]
  },
  {
   "cell_type": "code",
   "execution_count": 18,
   "metadata": {},
   "outputs": [
    {
     "data": {
      "text/html": [
       "<div>\n",
       "<style scoped>\n",
       "    .dataframe tbody tr th:only-of-type {\n",
       "        vertical-align: middle;\n",
       "    }\n",
       "\n",
       "    .dataframe tbody tr th {\n",
       "        vertical-align: top;\n",
       "    }\n",
       "\n",
       "    .dataframe thead th {\n",
       "        text-align: right;\n",
       "    }\n",
       "</style>\n",
       "<table border=\"1\" class=\"dataframe\">\n",
       "  <thead>\n",
       "    <tr style=\"text-align: right;\">\n",
       "      <th></th>\n",
       "      <th>Postal Code</th>\n",
       "      <th>Borough</th>\n",
       "      <th>Neighborhood</th>\n",
       "      <th>Latitude</th>\n",
       "      <th>Longitude</th>\n",
       "    </tr>\n",
       "  </thead>\n",
       "  <tbody>\n",
       "    <tr>\n",
       "      <th>0</th>\n",
       "      <td>M1B</td>\n",
       "      <td>Scarborough</td>\n",
       "      <td>Malvern, Rouge</td>\n",
       "      <td>43.806686</td>\n",
       "      <td>-79.194353</td>\n",
       "    </tr>\n",
       "    <tr>\n",
       "      <th>1</th>\n",
       "      <td>M1C</td>\n",
       "      <td>Scarborough</td>\n",
       "      <td>Rouge Hill, Port Union, Highland Creek</td>\n",
       "      <td>43.784535</td>\n",
       "      <td>-79.160497</td>\n",
       "    </tr>\n",
       "    <tr>\n",
       "      <th>2</th>\n",
       "      <td>M1E</td>\n",
       "      <td>Scarborough</td>\n",
       "      <td>Guildwood, Morningside, West Hill</td>\n",
       "      <td>43.763573</td>\n",
       "      <td>-79.188711</td>\n",
       "    </tr>\n",
       "    <tr>\n",
       "      <th>3</th>\n",
       "      <td>M1G</td>\n",
       "      <td>Scarborough</td>\n",
       "      <td>Woburn</td>\n",
       "      <td>43.770992</td>\n",
       "      <td>-79.216917</td>\n",
       "    </tr>\n",
       "    <tr>\n",
       "      <th>4</th>\n",
       "      <td>M1H</td>\n",
       "      <td>Scarborough</td>\n",
       "      <td>Cedarbrae</td>\n",
       "      <td>43.773136</td>\n",
       "      <td>-79.239476</td>\n",
       "    </tr>\n",
       "    <tr>\n",
       "      <th>...</th>\n",
       "      <td>...</td>\n",
       "      <td>...</td>\n",
       "      <td>...</td>\n",
       "      <td>...</td>\n",
       "      <td>...</td>\n",
       "    </tr>\n",
       "    <tr>\n",
       "      <th>98</th>\n",
       "      <td>M9N</td>\n",
       "      <td>York</td>\n",
       "      <td>Weston</td>\n",
       "      <td>43.706876</td>\n",
       "      <td>-79.518188</td>\n",
       "    </tr>\n",
       "    <tr>\n",
       "      <th>99</th>\n",
       "      <td>M9P</td>\n",
       "      <td>Etobicoke</td>\n",
       "      <td>Westmount</td>\n",
       "      <td>43.696319</td>\n",
       "      <td>-79.532242</td>\n",
       "    </tr>\n",
       "    <tr>\n",
       "      <th>100</th>\n",
       "      <td>M9R</td>\n",
       "      <td>Etobicoke</td>\n",
       "      <td>Kingsview Village, St. Phillips, Martin Grove ...</td>\n",
       "      <td>43.688905</td>\n",
       "      <td>-79.554724</td>\n",
       "    </tr>\n",
       "    <tr>\n",
       "      <th>101</th>\n",
       "      <td>M9V</td>\n",
       "      <td>Etobicoke</td>\n",
       "      <td>South Steeles, Silverstone, Humbergate, Jamest...</td>\n",
       "      <td>43.739416</td>\n",
       "      <td>-79.588437</td>\n",
       "    </tr>\n",
       "    <tr>\n",
       "      <th>102</th>\n",
       "      <td>M9W</td>\n",
       "      <td>Etobicoke</td>\n",
       "      <td>Northwest, West Humber - Clairville</td>\n",
       "      <td>43.706748</td>\n",
       "      <td>-79.594054</td>\n",
       "    </tr>\n",
       "  </tbody>\n",
       "</table>\n",
       "<p>103 rows × 5 columns</p>\n",
       "</div>"
      ],
      "text/plain": [
       "    Postal Code      Borough  \\\n",
       "0           M1B  Scarborough   \n",
       "1           M1C  Scarborough   \n",
       "2           M1E  Scarborough   \n",
       "3           M1G  Scarborough   \n",
       "4           M1H  Scarborough   \n",
       "..          ...          ...   \n",
       "98          M9N         York   \n",
       "99          M9P    Etobicoke   \n",
       "100         M9R    Etobicoke   \n",
       "101         M9V    Etobicoke   \n",
       "102         M9W    Etobicoke   \n",
       "\n",
       "                                          Neighborhood   Latitude  Longitude  \n",
       "0                                       Malvern, Rouge  43.806686 -79.194353  \n",
       "1               Rouge Hill, Port Union, Highland Creek  43.784535 -79.160497  \n",
       "2                    Guildwood, Morningside, West Hill  43.763573 -79.188711  \n",
       "3                                               Woburn  43.770992 -79.216917  \n",
       "4                                            Cedarbrae  43.773136 -79.239476  \n",
       "..                                                 ...        ...        ...  \n",
       "98                                              Weston  43.706876 -79.518188  \n",
       "99                                           Westmount  43.696319 -79.532242  \n",
       "100  Kingsview Village, St. Phillips, Martin Grove ...  43.688905 -79.554724  \n",
       "101  South Steeles, Silverstone, Humbergate, Jamest...  43.739416 -79.588437  \n",
       "102                Northwest, West Humber - Clairville  43.706748 -79.594054  \n",
       "\n",
       "[103 rows x 5 columns]"
      ]
     },
     "execution_count": 18,
     "metadata": {},
     "output_type": "execute_result"
    }
   ],
   "source": [
    "df.reset_index()"
   ]
  },
  {
   "cell_type": "markdown",
   "metadata": {},
   "source": [
    "# Part3 - Analysis"
   ]
  },
  {
   "cell_type": "markdown",
   "metadata": {},
   "source": [
    "Get all boroughts that have the word Toronto in them"
   ]
  },
  {
   "cell_type": "code",
   "execution_count": 19,
   "metadata": {},
   "outputs": [],
   "source": [
    "dfToronto = df[df['Borough'].str.contains(\"Toronto\")]"
   ]
  },
  {
   "cell_type": "code",
   "execution_count": 20,
   "metadata": {},
   "outputs": [
    {
     "data": {
      "text/html": [
       "<div>\n",
       "<style scoped>\n",
       "    .dataframe tbody tr th:only-of-type {\n",
       "        vertical-align: middle;\n",
       "    }\n",
       "\n",
       "    .dataframe tbody tr th {\n",
       "        vertical-align: top;\n",
       "    }\n",
       "\n",
       "    .dataframe thead th {\n",
       "        text-align: right;\n",
       "    }\n",
       "</style>\n",
       "<table border=\"1\" class=\"dataframe\">\n",
       "  <thead>\n",
       "    <tr style=\"text-align: right;\">\n",
       "      <th></th>\n",
       "      <th>Borough</th>\n",
       "      <th>Neighborhood</th>\n",
       "      <th>Latitude</th>\n",
       "      <th>Longitude</th>\n",
       "    </tr>\n",
       "    <tr>\n",
       "      <th>Postal Code</th>\n",
       "      <th></th>\n",
       "      <th></th>\n",
       "      <th></th>\n",
       "      <th></th>\n",
       "    </tr>\n",
       "  </thead>\n",
       "  <tbody>\n",
       "    <tr>\n",
       "      <th>M4E</th>\n",
       "      <td>East Toronto</td>\n",
       "      <td>The Beaches</td>\n",
       "      <td>43.676357</td>\n",
       "      <td>-79.293031</td>\n",
       "    </tr>\n",
       "    <tr>\n",
       "      <th>M4K</th>\n",
       "      <td>East Toronto</td>\n",
       "      <td>The Danforth West, Riverdale</td>\n",
       "      <td>43.679557</td>\n",
       "      <td>-79.352188</td>\n",
       "    </tr>\n",
       "    <tr>\n",
       "      <th>M4L</th>\n",
       "      <td>East Toronto</td>\n",
       "      <td>India Bazaar, The Beaches West</td>\n",
       "      <td>43.668999</td>\n",
       "      <td>-79.315572</td>\n",
       "    </tr>\n",
       "    <tr>\n",
       "      <th>M4M</th>\n",
       "      <td>East Toronto</td>\n",
       "      <td>Studio District</td>\n",
       "      <td>43.659526</td>\n",
       "      <td>-79.340923</td>\n",
       "    </tr>\n",
       "    <tr>\n",
       "      <th>M4N</th>\n",
       "      <td>Central Toronto</td>\n",
       "      <td>Lawrence Park</td>\n",
       "      <td>43.728020</td>\n",
       "      <td>-79.388790</td>\n",
       "    </tr>\n",
       "  </tbody>\n",
       "</table>\n",
       "</div>"
      ],
      "text/plain": [
       "                     Borough                    Neighborhood   Latitude  \\\n",
       "Postal Code                                                               \n",
       "M4E             East Toronto                     The Beaches  43.676357   \n",
       "M4K             East Toronto    The Danforth West, Riverdale  43.679557   \n",
       "M4L             East Toronto  India Bazaar, The Beaches West  43.668999   \n",
       "M4M             East Toronto                 Studio District  43.659526   \n",
       "M4N          Central Toronto                   Lawrence Park  43.728020   \n",
       "\n",
       "             Longitude  \n",
       "Postal Code             \n",
       "M4E         -79.293031  \n",
       "M4K         -79.352188  \n",
       "M4L         -79.315572  \n",
       "M4M         -79.340923  \n",
       "M4N         -79.388790  "
      ]
     },
     "execution_count": 20,
     "metadata": {},
     "output_type": "execute_result"
    }
   ],
   "source": [
    "dfToronto.head()"
   ]
  },
  {
   "cell_type": "code",
   "execution_count": 1,
   "metadata": {},
   "outputs": [],
   "source": [
    "import folium"
   ]
  },
  {
   "cell_type": "code",
   "execution_count": 23,
   "metadata": {},
   "outputs": [
    {
     "data": {
      "text/html": [
       "<div style=\"width:100%;\"><div style=\"position:relative;width:100%;height:0;padding-bottom:60%;\"><span style=\"color:#565656\">Make this Notebook Trusted to load map: File -> Trust Notebook</span><iframe src=\"about:blank\" style=\"position:absolute;width:100%;height:100%;left:0;top:0;border:none !important;\" data-html=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 onload=\"this.contentDocument.open();this.contentDocument.write(atob(this.getAttribute('data-html')));this.contentDocument.close();\" allowfullscreen webkitallowfullscreen mozallowfullscreen></iframe></div></div>"
      ],
      "text/plain": [
       "<folium.folium.Map at 0x115b75150>"
      ]
     },
     "execution_count": 23,
     "metadata": {},
     "output_type": "execute_result"
    }
   ],
   "source": [
    "# create map of New York using latitude and longitude values\n",
    "map_toronto = folium.Map(location=[43.651070, -79.347015], zoom_start=10)\n",
    "\n",
    "# add markers to map\n",
    "for lat, lng, borough, neighborhood in zip(dfToronto['Latitude'], dfToronto['Longitude'], dfToronto['Borough'], dfToronto['Neighborhood']):\n",
    "    label = '{}, {}'.format(neighborhood, borough)\n",
    "    label = folium.Popup(label, parse_html=True)\n",
    "    folium.CircleMarker(\n",
    "        [lat, lng],\n",
    "        radius=5,\n",
    "        popup=label,\n",
    "        color='blue',\n",
    "        fill=True,\n",
    "        fill_color='#3186cc',\n",
    "        fill_opacity=0.7,\n",
    "        parse_html=False).add_to(map_toronto)  \n",
    "    \n",
    "map_toronto"
   ]
  },
  {
   "cell_type": "code",
   "execution_count": null,
   "metadata": {},
   "outputs": [],
   "source": []
  }
 ],
 "metadata": {
  "kernelspec": {
   "display_name": "Python 3",
   "language": "python",
   "name": "python3"
  },
  "language_info": {
   "codemirror_mode": {
    "name": "ipython",
    "version": 3
   },
   "file_extension": ".py",
   "mimetype": "text/x-python",
   "name": "python",
   "nbconvert_exporter": "python",
   "pygments_lexer": "ipython3",
   "version": "3.7.7"
  }
 },
 "nbformat": 4,
 "nbformat_minor": 4
}
